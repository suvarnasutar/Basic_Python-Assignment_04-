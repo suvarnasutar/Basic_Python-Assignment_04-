{
 "cells": [
  {
   "cell_type": "code",
   "execution_count": null,
   "id": "b0304f7e",
   "metadata": {},
   "outputs": [],
   "source": [
    " ######   Que 1   #########\n",
    "1. What exactly is []?"
   ]
  },
  {
   "cell_type": "code",
   "execution_count": null,
   "id": "5f2db1e5",
   "metadata": {},
   "outputs": [],
   "source": [
    "[]this is an empty list containing no value"
   ]
  },
  {
   "cell_type": "code",
   "execution_count": null,
   "id": "67bf4fc0",
   "metadata": {},
   "outputs": [],
   "source": []
  },
  {
   "cell_type": "code",
   "execution_count": null,
   "id": "128ee788",
   "metadata": {},
   "outputs": [],
   "source": [
    " ######   Que 2   #########\n",
    "2. In a list of values stored in a variable called spam, how would you assign the value \"hello\" as the\n",
    "third value? (Assume [2, 4, 6, 8, 10] are in spam.)"
   ]
  },
  {
   "cell_type": "code",
   "execution_count": 10,
   "id": "cf299381",
   "metadata": {},
   "outputs": [],
   "source": [
    "spam=[2, 4, 6, 8, 10]\n",
    "spam[2]=\"hello\" # third value means index 2 in list\n",
    "                # list starts with index 0"
   ]
  },
  {
   "cell_type": "code",
   "execution_count": 11,
   "id": "713c101e",
   "metadata": {},
   "outputs": [
    {
     "data": {
      "text/plain": [
       "[2, 4, 'hello', 8, 10]"
      ]
     },
     "execution_count": 11,
     "metadata": {},
     "output_type": "execute_result"
    }
   ],
   "source": [
    "spam"
   ]
  },
  {
   "cell_type": "code",
   "execution_count": null,
   "id": "09824413",
   "metadata": {},
   "outputs": [],
   "source": []
  },
  {
   "cell_type": "code",
   "execution_count": null,
   "id": "6e768ea4",
   "metadata": {},
   "outputs": [],
   "source": [
    "Let's pretend the spam includes the list ['a','b','c','d'] for the next three queries.\n",
    "######   Que 3   #########\n",
    "3. What is the value of spam[int(int('3'* 2) / 11)]?    "
   ]
  },
  {
   "cell_type": "code",
   "execution_count": 14,
   "id": "0f6e7611",
   "metadata": {},
   "outputs": [
    {
     "data": {
      "text/plain": [
       "'d'"
      ]
     },
     "execution_count": 14,
     "metadata": {},
     "output_type": "execute_result"
    }
   ],
   "source": [
    "spam=['a','b','c','d']\n",
    "spam[int(int('3'*2) / 11)]     # here '3'*2 is the string '33'.\n",
    "                                #value after evaluation is 3.so spam[3] means at index 3, 'd' is there"
   ]
  },
  {
   "cell_type": "code",
   "execution_count": null,
   "id": "7615f4ab",
   "metadata": {},
   "outputs": [],
   "source": []
  },
  {
   "cell_type": "code",
   "execution_count": null,
   "id": "1f31d87a",
   "metadata": {},
   "outputs": [],
   "source": [
    " ######   Que 4   #########\n",
    "4. What is the value of spam[-1]?    "
   ]
  },
  {
   "cell_type": "code",
   "execution_count": 15,
   "id": "9a1795b9",
   "metadata": {},
   "outputs": [
    {
     "data": {
      "text/plain": [
       "'d'"
      ]
     },
     "execution_count": 15,
     "metadata": {},
     "output_type": "execute_result"
    }
   ],
   "source": [
    "spam=['a','b','c','d']\n",
    "spam[-1]             # negative indexes count from end of list "
   ]
  },
  {
   "cell_type": "code",
   "execution_count": null,
   "id": "470ec8ca",
   "metadata": {},
   "outputs": [],
   "source": []
  },
  {
   "cell_type": "code",
   "execution_count": null,
   "id": "89db5250",
   "metadata": {},
   "outputs": [],
   "source": [
    " ######   Que 5   #########\n",
    "5. What is the value of spam[:2]?  \n"
   ]
  },
  {
   "cell_type": "code",
   "execution_count": 16,
   "id": "65232b8b",
   "metadata": {},
   "outputs": [
    {
     "data": {
      "text/plain": [
       "['a', 'b']"
      ]
     },
     "execution_count": 16,
     "metadata": {},
     "output_type": "execute_result"
    }
   ],
   "source": [
    "spam=['a','b','c','d']\n",
    "spam[:2]          # gives value from index 0 to 1..excludes index 2"
   ]
  },
  {
   "cell_type": "code",
   "execution_count": null,
   "id": "b1607479",
   "metadata": {},
   "outputs": [],
   "source": []
  },
  {
   "cell_type": "code",
   "execution_count": null,
   "id": "c0ec841a",
   "metadata": {},
   "outputs": [],
   "source": [
    " ######   Que 6  #########\n",
    "Let's pretend bacon has the list [3.14,'cat',11,'cat',True]for the next three questions.    \n",
    "6. What is the value of bacon.index('cat')?    "
   ]
  },
  {
   "cell_type": "code",
   "execution_count": 18,
   "id": "8bbc7023",
   "metadata": {},
   "outputs": [
    {
     "data": {
      "text/plain": [
       "1"
      ]
     },
     "execution_count": 18,
     "metadata": {},
     "output_type": "execute_result"
    }
   ],
   "source": [
    "bacon=[3.14,'cat',11,'cat',True]\n",
    "bacon.index('cat') # 'cat' is at index 1"
   ]
  },
  {
   "cell_type": "code",
   "execution_count": null,
   "id": "6d4ee1e9",
   "metadata": {},
   "outputs": [],
   "source": [
    " ######   Que 7  #########\n",
    "7. How does bacon.append(99) change the look of the list value in bacon?    "
   ]
  },
  {
   "cell_type": "code",
   "execution_count": 20,
   "id": "18f4fdcd",
   "metadata": {},
   "outputs": [],
   "source": [
    "bacon=[3.14,'cat',11,'cat',True]\n",
    "bacon.append(99)    # appends value at the end of list"
   ]
  },
  {
   "cell_type": "code",
   "execution_count": 21,
   "id": "c34566f0",
   "metadata": {},
   "outputs": [
    {
     "data": {
      "text/plain": [
       "[3.14, 'cat', 11, 'cat', True, 99]"
      ]
     },
     "execution_count": 21,
     "metadata": {},
     "output_type": "execute_result"
    }
   ],
   "source": [
    "bacon"
   ]
  },
  {
   "cell_type": "code",
   "execution_count": null,
   "id": "de8b0281",
   "metadata": {},
   "outputs": [],
   "source": []
  },
  {
   "cell_type": "code",
   "execution_count": null,
   "id": "d734a1d6",
   "metadata": {},
   "outputs": [],
   "source": [
    " ######   Que 8   #########\n",
    "8. How does bacon.remove('cat') change the look of the list in bacon?    "
   ]
  },
  {
   "cell_type": "code",
   "execution_count": 22,
   "id": "75562fea",
   "metadata": {},
   "outputs": [],
   "source": [
    "bacon=[3.14,'cat',11,'cat',True]\n",
    "bacon.remove('cat') # removes 'cat' from index1"
   ]
  },
  {
   "cell_type": "code",
   "execution_count": 23,
   "id": "acbce632",
   "metadata": {},
   "outputs": [
    {
     "data": {
      "text/plain": [
       "[3.14, 11, 'cat', True]"
      ]
     },
     "execution_count": 23,
     "metadata": {},
     "output_type": "execute_result"
    }
   ],
   "source": [
    "bacon"
   ]
  },
  {
   "cell_type": "code",
   "execution_count": null,
   "id": "3043e6f9",
   "metadata": {},
   "outputs": [],
   "source": []
  },
  {
   "cell_type": "code",
   "execution_count": null,
   "id": "74f52b20",
   "metadata": {},
   "outputs": [],
   "source": [
    " ######   Que 9  #########\n",
    "9. What are the list concatenation and list replication operators?    "
   ]
  },
  {
   "cell_type": "code",
   "execution_count": null,
   "id": "6bd5529d",
   "metadata": {},
   "outputs": [],
   "source": [
    "The operator for list concatenation is +, while the operator for replication is *."
   ]
  },
  {
   "cell_type": "code",
   "execution_count": null,
   "id": "ba6f6363",
   "metadata": {},
   "outputs": [],
   "source": []
  },
  {
   "cell_type": "code",
   "execution_count": null,
   "id": "af8e3ae1",
   "metadata": {},
   "outputs": [],
   "source": [
    " ######   Que 10   #########\n",
    "10. What is difference between the list methods append() and insert()?    "
   ]
  },
  {
   "cell_type": "code",
   "execution_count": null,
   "id": "60058936",
   "metadata": {},
   "outputs": [],
   "source": [
    "append() function : It adds an element at the end of the list.\n",
    "insert() function : This method can be used to insert a value at any desired position."
   ]
  },
  {
   "cell_type": "code",
   "execution_count": 29,
   "id": "57b1f2f9",
   "metadata": {},
   "outputs": [],
   "source": [
    "list1=[1,2,3,4,5,6]\n",
    "list1.append(8)        #appends at end"
   ]
  },
  {
   "cell_type": "code",
   "execution_count": 30,
   "id": "596cf996",
   "metadata": {},
   "outputs": [
    {
     "data": {
      "text/plain": [
       "[1, 2, 3, 4, 5, 6, 8]"
      ]
     },
     "execution_count": 30,
     "metadata": {},
     "output_type": "execute_result"
    }
   ],
   "source": [
    "list1"
   ]
  },
  {
   "cell_type": "code",
   "execution_count": null,
   "id": "80a2f080",
   "metadata": {},
   "outputs": [],
   "source": [
    "list1=[1,2,3,4,5,6]"
   ]
  },
  {
   "cell_type": "code",
   "execution_count": 31,
   "id": "f0fa22c5",
   "metadata": {},
   "outputs": [],
   "source": [
    "list1.insert(3,\"hello\")  # inserts value at perticular position (index 3)"
   ]
  },
  {
   "cell_type": "code",
   "execution_count": 32,
   "id": "a16e9d20",
   "metadata": {},
   "outputs": [
    {
     "data": {
      "text/plain": [
       "[1, 2, 3, 'hello', 4, 5, 6, 8]"
      ]
     },
     "execution_count": 32,
     "metadata": {},
     "output_type": "execute_result"
    }
   ],
   "source": [
    "list1"
   ]
  },
  {
   "cell_type": "code",
   "execution_count": null,
   "id": "3b420bcb",
   "metadata": {},
   "outputs": [],
   "source": []
  },
  {
   "cell_type": "code",
   "execution_count": null,
   "id": "01b49b99",
   "metadata": {},
   "outputs": [],
   "source": [
    " ######   Que 11   #########\n",
    "11. What are the two methods for removing items from a list?    "
   ]
  },
  {
   "cell_type": "code",
   "execution_count": null,
   "id": "4266ae59",
   "metadata": {},
   "outputs": [],
   "source": [
    "Methods for removing items from a list are:\n",
    "    1.pop()\n",
    "    2.remove()\n",
    "The `pop()` method removes the element at a specified index and returns its value. If you don’t provide an index, it will remove\n",
    "and return the last element.\n",
    "example:"
   ]
  },
  {
   "cell_type": "code",
   "execution_count": 2,
   "id": "83de452f",
   "metadata": {},
   "outputs": [
    {
     "name": "stdout",
     "output_type": "stream",
     "text": [
      "removed gadget is : Keyboard\n",
      "Updated list : ['Laptop', 'Headphone', 'Mouse', 'Printer', 'Ipad']\n"
     ]
    }
   ],
   "source": [
    "gadgets=[\"Laptop\",\"Headphone\",\"Keyboard\",\"Mouse\",\"Printer\",\"Ipad\"]\n",
    "# removing the element at index 2\n",
    "removed_gadget=gadgets.pop(2)\n",
    "print(\"removed gadget is :\",removed_gadget)\n",
    "print(\"Updated list :\",gadgets)"
   ]
  },
  {
   "cell_type": "code",
   "execution_count": null,
   "id": "fbe6cf2b",
   "metadata": {},
   "outputs": [],
   "source": [
    "The `remove()` method is used to remove the first occurrence of a specified value from the list.\n",
    "Example:"
   ]
  },
  {
   "cell_type": "code",
   "execution_count": 9,
   "id": "7889a303",
   "metadata": {},
   "outputs": [
    {
     "name": "stdout",
     "output_type": "stream",
     "text": [
      "Updated list : ['Laptop', 'Keyboard', 'Mouse', 'Printer', 'Ipad', 'Headphone']\n"
     ]
    }
   ],
   "source": [
    "gadgets=[\"Laptop\",\"Headphone\",\"Keyboard\",\"Mouse\",\"Printer\",\"Ipad\",\"Headphone\"]\n",
    "\n",
    "# removing the element Headphone\n",
    "gadgets.remove(\"Headphone\")\n",
    "\n",
    "print(\"Updated list :\",gadgets)"
   ]
  },
  {
   "cell_type": "code",
   "execution_count": null,
   "id": "0aa644fa",
   "metadata": {},
   "outputs": [],
   "source": []
  },
  {
   "cell_type": "code",
   "execution_count": null,
   "id": "e506b455",
   "metadata": {},
   "outputs": [],
   "source": [
    " ######   Que 12   #########\n",
    "12. Describe how list values and string values are identical.    "
   ]
  },
  {
   "cell_type": "code",
   "execution_count": null,
   "id": "12e2b095",
   "metadata": {},
   "outputs": [],
   "source": [
    "list values and string values are identical in :\n",
    "    1.sequence  \n",
    "    2.lenght\n",
    "    3.position\n",
    "* The main similarity between Strings and List is that in Python both are sequences. A string is a character's sequence between\n",
    "single or double quotations. A list is an item sequence in which each item could be anything such as a float, an integer, a \n",
    "string, etc\n",
    "* The second similarity between Strings and Lists is that both strings and lists have lengths. A length of a string is the \n",
    "numberof characters in the string and a length of a list is the number of items in the list.  \n",
    "* The third similarity between Strings and Lists is that both strings and lists have a position. Every character in a string as \n",
    "well as every item in a list has a position which is known as an index."
   ]
  },
  {
   "cell_type": "code",
   "execution_count": null,
   "id": "17435847",
   "metadata": {},
   "outputs": [],
   "source": []
  },
  {
   "cell_type": "code",
   "execution_count": null,
   "id": "5deaeaa4",
   "metadata": {},
   "outputs": [],
   "source": [
    " ######   Que 13   #########\n",
    "13. What's the difference between tuples and lists?    "
   ]
  },
  {
   "cell_type": "code",
   "execution_count": null,
   "id": "dc5ebe70",
   "metadata": {},
   "outputs": [],
   "source": [
    "               List                                                    Tuple\n",
    "1. It is mutable                                             1.  It is immutable\n",
    "2. The implication of iterations                             2.  Implications of iterations are\n",
    "   is time-consuming in the list                                 much faster in tuples.\n",
    "3. Operations like insertion and                             3.   Elements can be accessed better.\n",
    "   deletion are better performed. \n",
    "4 .Consumes more memory.                                     4.  Consumes less memory."
   ]
  },
  {
   "cell_type": "code",
   "execution_count": null,
   "id": "6e4d8879",
   "metadata": {},
   "outputs": [],
   "source": []
  },
  {
   "cell_type": "code",
   "execution_count": null,
   "id": "53cecd54",
   "metadata": {},
   "outputs": [],
   "source": [
    " ######   Que 14   #########\n",
    "14. How do you type a tuple value that only contains the integer 42?    "
   ]
  },
  {
   "cell_type": "code",
   "execution_count": 19,
   "id": "a0801fa0",
   "metadata": {},
   "outputs": [],
   "source": [
    "tuple=(42)"
   ]
  },
  {
   "cell_type": "code",
   "execution_count": 20,
   "id": "5d282f02",
   "metadata": {},
   "outputs": [
    {
     "data": {
      "text/plain": [
       "42"
      ]
     },
     "execution_count": 20,
     "metadata": {},
     "output_type": "execute_result"
    }
   ],
   "source": [
    "tuple"
   ]
  },
  {
   "cell_type": "code",
   "execution_count": null,
   "id": "eb7118dc",
   "metadata": {},
   "outputs": [],
   "source": []
  },
  {
   "cell_type": "code",
   "execution_count": null,
   "id": "930b28b5",
   "metadata": {},
   "outputs": [],
   "source": [
    " ######   Que 15   #########\n",
    "15. How do you get a list value's tuple form? How do you get a tuple value's list form?    "
   ]
  },
  {
   "cell_type": "code",
   "execution_count": 21,
   "id": "0e85c18f",
   "metadata": {},
   "outputs": [
    {
     "name": "stdout",
     "output_type": "stream",
     "text": [
      "[1, 2, 3, 4]\n"
     ]
    }
   ],
   "source": [
    "tuple1=(1,2,3,4)\n",
    "L1=list(tuple1)    #get tuple values list form using list()\n",
    "print(L1)"
   ]
  },
  {
   "cell_type": "code",
   "execution_count": 50,
   "id": "e09a69ab",
   "metadata": {},
   "outputs": [
    {
     "name": "stdout",
     "output_type": "stream",
     "text": [
      "List of Tuples is :  [(1, 2, 3), ('a', 'b', 'c')]\n"
     ]
    }
   ],
   "source": [
    "list_data = [(1,2,3),('a','b','c')]\n",
    "print(\"List of Tuples is : \",list_data)"
   ]
  },
  {
   "cell_type": "code",
   "execution_count": null,
   "id": "a32f3df4",
   "metadata": {},
   "outputs": [],
   "source": []
  },
  {
   "cell_type": "code",
   "execution_count": null,
   "id": "037e0b5c",
   "metadata": {},
   "outputs": [],
   "source": [
    " ######   Que 16   #########\n",
    "16. Variables that \"contain\" list values are not necessarily lists themselves. Instead, what do they contain?    "
   ]
  },
  {
   "cell_type": "code",
   "execution_count": null,
   "id": "59ae6bdd",
   "metadata": {},
   "outputs": [],
   "source": [
    "Variables that \"contain\" list values are not necessarily lists themselves. Instead, they contain references to list values \n",
    "rather than list values themselves.    "
   ]
  },
  {
   "cell_type": "code",
   "execution_count": null,
   "id": "0ea99310",
   "metadata": {},
   "outputs": [],
   "source": []
  },
  {
   "cell_type": "code",
   "execution_count": null,
   "id": "1dd02ebd",
   "metadata": {},
   "outputs": [],
   "source": [
    " ######   Que 17   #########\n",
    "17. How do you distinguish between copy.copy() and copy.deepcopy()?"
   ]
  },
  {
   "cell_type": "code",
   "execution_count": null,
   "id": "a7263346",
   "metadata": {},
   "outputs": [],
   "source": [
    " copy.copy()  return a shallow copy.A shallow copy constructs a new compound object and then inserts references into it to the \n",
    "              objects found in the original.\n",
    " copy.deepcopy()  Return a deep copy.A deep copy constructs a new compound object and then, recursively, inserts copies into it \n",
    "                  of the objects found in the original."
   ]
  }
 ],
 "metadata": {
  "kernelspec": {
   "display_name": "Python 3 (ipykernel)",
   "language": "python",
   "name": "python3"
  },
  "language_info": {
   "codemirror_mode": {
    "name": "ipython",
    "version": 3
   },
   "file_extension": ".py",
   "mimetype": "text/x-python",
   "name": "python",
   "nbconvert_exporter": "python",
   "pygments_lexer": "ipython3",
   "version": "3.11.3"
  }
 },
 "nbformat": 4,
 "nbformat_minor": 5
}
